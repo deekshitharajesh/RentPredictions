{
  "nbformat": 4,
  "nbformat_minor": 0,
  "metadata": {
    "colab": {
      "provenance": []
    },
    "kernelspec": {
      "name": "python3",
      "display_name": "Python 3"
    },
    "language_info": {
      "name": "python"
    }
  },
  "cells": [
    {
      "cell_type": "code",
      "execution_count": 1,
      "metadata": {
        "id": "xG8M2wBVDZ0D"
      },
      "outputs": [],
      "source": [
        "import requests\n",
        "import json"
      ]
    },
    {
      "cell_type": "code",
      "source": [
        "url = \"http://3247-34-125-7-115.ngrok.io/\""
      ],
      "metadata": {
        "id": "ScWJCTeLDc3C"
      },
      "execution_count": 2,
      "outputs": []
    },
    {
      "cell_type": "code",
      "source": [
        "input_data ={\n",
        "    \"BHK\": 1,\n",
        "    'Size': 870,\n",
        "    \"Floor\": 0,\n",
        "    \"AreaType\":2,\n",
        "    \"City\":4,\n",
        "    \"FurnishingStatus\":1,\n",
        "    \"TenantPreferred\":1\n",
        "}"
      ],
      "metadata": {
        "id": "pbpF8PHGDc9D"
      },
      "execution_count": 3,
      "outputs": []
    },
    {
      "cell_type": "code",
      "source": [
        "input_json = json.dumps(input_data)\n"
      ],
      "metadata": {
        "id": "G--ofLXJDk-s"
      },
      "execution_count": 4,
      "outputs": []
    },
    {
      "cell_type": "code",
      "source": [
        "reponse = requests.post(url,data=input_json)"
      ],
      "metadata": {
        "id": "2p7Kfy6dDoBI"
      },
      "execution_count": 5,
      "outputs": []
    },
    {
      "cell_type": "code",
      "source": [
        "print(reponse.text)"
      ],
      "metadata": {
        "colab": {
          "base_uri": "https://localhost:8080/"
        },
        "id": "5Yy13eFTDoGw",
        "outputId": "4877a2b5-5abd-423e-beb9-9b1407207a3b"
      },
      "execution_count": 6,
      "outputs": [
        {
          "output_type": "stream",
          "name": "stdout",
          "text": [
            "{\"detail\":\"Not Found\"}\n"
          ]
        }
      ]
    }
  ]
}